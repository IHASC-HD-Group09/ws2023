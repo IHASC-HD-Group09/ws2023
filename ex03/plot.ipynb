{
 "cells": [
  {
   "cell_type": "code",
   "execution_count": 1,
   "metadata": {},
   "outputs": [],
   "source": [
    "import matplotlib.pyplot as plt\n",
    "import glob\n",
    "from typing import List, Tuple\n",
    "import numpy as np"
   ]
  },
  {
   "cell_type": "code",
   "execution_count": 2,
   "metadata": {},
   "outputs": [],
   "source": [
    "def parse_vtk(lines: List[str]) -> Tuple[float, np.ndarray, np.ndarray, np.ndarray]:\n",
    "    \"\"\"Return current_time, points, masses, velocities from a VTK file.\"\"\"\n",
    "    _, current_time, time_step = lines[1].strip().split()\n",
    "\n",
    "    lines = lines[4:]\n",
    "    n_bodies = int(lines[0].split()[1])\n",
    "    lines = lines[1:]\n",
    "\n",
    "    points = []\n",
    "    for i in range(n_bodies):\n",
    "        x, y, z = lines[i].split()\n",
    "        points.append([float(x), float(y), float(z)])\n",
    "\n",
    "    # Skip VERTICES data\n",
    "    lines = lines[(n_bodies+1)*2:]\n",
    "\n",
    "    # MASS section\n",
    "    lines = lines[2:]  # skip MASS headers\n",
    "\n",
    "    masses = []\n",
    "    for i in range(n_bodies):\n",
    "        mass = float(lines[i])\n",
    "        masses.append(mass)\n",
    "\n",
    "    # Skip MASS data and VELOCITY header\n",
    "    lines = lines[n_bodies+1:]\n",
    "\n",
    "    velocities = []\n",
    "    for i in range(n_bodies):\n",
    "        vx, vy, vz = lines[i].split()\n",
    "        velocities.append([float(vx), float(vy), float(vz)])\n",
    "\n",
    "    return float(current_time), np.array(points), np.array(masses), np.array(velocities)\n",
    "    \n",
    "\n"
   ]
  },
  {
   "cell_type": "code",
   "execution_count": 3,
   "metadata": {},
   "outputs": [],
   "source": [
    "def read_files(pattern: str):\n",
    "    files = glob.glob(pattern)\n",
    "    files.sort()\n",
    "    for file in files:\n",
    "        with open(file) as fp:\n",
    "            data = parse_vtk(fp.readlines())"
   ]
  },
  {
   "cell_type": "code",
   "execution_count": 4,
   "metadata": {},
   "outputs": [],
   "source": [
    "read_files(\"test_out*\")"
   ]
  }
 ],
 "metadata": {
  "kernelspec": {
   "display_name": "venv",
   "language": "python",
   "name": "python3"
  },
  "language_info": {
   "codemirror_mode": {
    "name": "ipython",
    "version": 3
   },
   "file_extension": ".py",
   "mimetype": "text/x-python",
   "name": "python",
   "nbconvert_exporter": "python",
   "pygments_lexer": "ipython3",
   "version": "3.10.12"
  }
 },
 "nbformat": 4,
 "nbformat_minor": 2
}
